{
 "cells": [
  {
   "cell_type": "markdown",
   "metadata": {},
   "source": [
    "#### L1-1: Unzipping datasets.zip"
   ]
  },
  {
   "cell_type": "code",
   "execution_count": 25,
   "metadata": {},
   "outputs": [],
   "source": [
    "import zipfile\n",
    "from pathlib import Path #NGL\n",
    "\n",
    "path_to_zip_file = \"datasets.zip\"\n",
    "directory_to_extract_to = Path().absolute()\n",
    "# print(f\"Path to zip file: {path_to_zip_file}\") # Check file path\n",
    "# print(f\"Directory to extract to: {directory_to_extract_to}\") # Check directory for extraction\n"
   ]
  },
  {
   "cell_type": "code",
   "execution_count": 26,
   "metadata": {},
   "outputs": [],
   "source": [
    "def extract_file(z_file, extraction_dest):\n",
    "    zip_ref = zipfile.ZipFile(z_file, 'r')\n",
    "    zip_ref.extractall(extraction_dest)\n",
    "    zip_ref.close()\n",
    "    \n",
    "# extract_file(path_to_zip_file, directory_to_extract_to) # -> Run this only once!\n"
   ]
  },
  {
   "cell_type": "code",
   "execution_count": null,
   "metadata": {},
   "outputs": [],
   "source": []
  }
 ],
 "metadata": {
  "jupytext": {
   "text_representation": {
    "extension": ".py",
    "format_name": "light",
    "format_version": "1.5",
    "jupytext_version": "1.3.0"
   }
  },
  "kernelspec": {
   "display_name": "Python 3",
   "language": "python",
   "name": "python3"
  },
  "language_info": {
   "codemirror_mode": {
    "name": "ipython",
    "version": 3
   },
   "file_extension": ".py",
   "mimetype": "text/x-python",
   "name": "python",
   "nbconvert_exporter": "python",
   "pygments_lexer": "ipython3",
   "version": "3.7.4"
  }
 },
 "nbformat": 4,
 "nbformat_minor": 2
}
