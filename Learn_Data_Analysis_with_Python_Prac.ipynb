{
 "cells": [
  {
   "cell_type": "markdown",
   "metadata": {},
   "source": [
    "#### L1-1: Unzipping datasets.zip"
   ]
  },
  {
   "cell_type": "code",
   "execution_count": 25,
   "metadata": {},
   "outputs": [],
   "source": [
    "import zipfile\n",
    "from pathlib import Path #NGL\n",
    "\n",
    "path_to_zip_file = \"datasets.zip\"\n",
    "directory_to_extract_to = Path().absolute()\n",
    "# print(f\"Path to zip file: {path_to_zip_file}\") # Check file path\n",
    "# print(f\"Directory to extract to: {directory_to_extract_to}\") # Check directory for extraction\n"
   ]
  },
  {
   "cell_type": "code",
   "execution_count": 24,
   "metadata": {},
   "outputs": [
    {
     "data": {
      "text/plain": [
       "'\\nprint(20*\"*\")\\n#import pathlib\\n#current_dir = pathlib.Path(__file__).parent\\n#current_file = pathlib.Path(__file__)\\n#print(f\"Current Directory: {current_dir}\")\\n#print(f\"Current File: {current_file}\")\\n\\n#print(os.path.abspath(__file__))\\n\\nfrom pathlib import Path\\nprint(\"File      Path:\", Path(path_to_zip_file).absolute())\\nprint(\"Directory Path:\", Path().absolute()) \\n\\n'"
      ]
     },
     "execution_count": 24,
     "metadata": {},
     "output_type": "execute_result"
    }
   ],
   "source": [
    "def extract_file(z_file, extraction_dest):\n",
    "    zip_ref = zipfile.ZipFile(z_file, 'r')\n",
    "    zip_ref.extractall(extraction_dest)\n",
    "    zip_ref.close()\n",
    "    \n",
    "extract_file(path_to_zip_file, directory_to_extract_to)\n",
    "zip_ref.close()\n"
   ]
  },
  {
   "cell_type": "code",
   "execution_count": null,
   "metadata": {},
   "outputs": [],
   "source": []
  }
 ],
 "metadata": {
  "jupytext": {
   "text_representation": {
    "extension": ".py",
    "format_name": "light",
    "format_version": "1.5",
    "jupytext_version": "1.3.0"
   }
  },
  "kernelspec": {
   "display_name": "Python 3",
   "language": "python",
   "name": "python3"
  },
  "language_info": {
   "codemirror_mode": {
    "name": "ipython",
    "version": 3
   },
   "file_extension": ".py",
   "mimetype": "text/x-python",
   "name": "python",
   "nbconvert_exporter": "python",
   "pygments_lexer": "ipython3",
   "version": "3.7.4"
  }
 },
 "nbformat": 4,
 "nbformat_minor": 2
}
